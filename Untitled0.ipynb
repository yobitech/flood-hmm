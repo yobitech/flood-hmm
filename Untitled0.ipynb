{
 "metadata": {
  "name": "",
  "signature": "sha256:4b4f0ba1a1ad0276063c24423f3aee69375bf6911fe48283c5ce06218d931b05"
 },
 "nbformat": 3,
 "nbformat_minor": 0,
 "worksheets": [
  {
   "cells": [
    {
     "cell_type": "code",
     "collapsed": false,
     "input": [
      "import pandas as pd\n",
      "import numpy as np"
     ],
     "language": "python",
     "metadata": {},
     "outputs": [],
     "prompt_number": 1
    },
    {
     "cell_type": "code",
     "collapsed": false,
     "input": [
      "ws_data = {\n",
      "    'date': ['2016-03-06', '2016-03-05', '2016-03-04', '2016-03-03', '2016-03-02', '2016-03-01'], \n",
      "    'rainfall': [1., 2., 3., 4., 5., 6.]\n",
      "}\n",
      "\n",
      "aw_data = {\n",
      "    'date': []\n",
      "    'days_ahead': []\n",
      "    'rf': []\n",
      "    'pct': []\n",
      "}"
     ],
     "language": "python",
     "metadata": {},
     "outputs": []
    }
   ],
   "metadata": {}
  }
 ]
}